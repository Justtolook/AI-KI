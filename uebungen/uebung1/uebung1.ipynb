{
 "cells": [
  {
   "cell_type": "markdown",
   "metadata": {},
   "source": [
    "# Uebungsblatt 1\n",
    "## Racket Basics, Rekursion, Higher-Order Funktionen"
   ]
  },
  {
   "cell_type": "code",
   "execution_count": 137,
   "metadata": {},
   "outputs": [],
   "source": [
    "(require racket/trace)"
   ]
  },
  {
   "cell_type": "markdown",
   "metadata": {},
   "source": [
    "# Aufgabe 1"
   ]
  },
  {
   "cell_type": "code",
   "execution_count": 2,
   "metadata": {},
   "outputs": [],
   "source": [
    "(define (search tree num)\n",
    "  (foldl (lambda (elem num)\n",
    "           (if (or (equal? elem num) (search (rest tree) num))\n",
    "               #t\n",
    "               #f))\n",
    "         (first tree)\n",
    "         (rest tree)))"
   ]
  },
  {
   "cell_type": "code",
   "execution_count": 3,
   "metadata": {},
   "outputs": [],
   "source": [
    "(require racket)\n",
    "(define (search2 tree num)\n",
    "  (if (empty? (rest tree))\n",
    "      (#f)\n",
    "      ((write (first tree))\n",
    "      (if (or (equal? (first tree) num))\n",
    "      #t\n",
    "      (search (rest tree) num)))))"
   ]
  },
  {
   "cell_type": "code",
   "execution_count": 4,
   "metadata": {},
   "outputs": [
    {
     "name": "stdout",
     "output_type": "stream",
     "text": [
      "43"
     ]
    },
    {
     "name": "stderr",
     "output_type": "stream",
     "text": [
      "application: not a procedure;\n",
      " expected a procedure that can be applied to arguments\n",
      "  given: #<void>\n",
      "  arguments...:\n",
      "   #t\n",
      "  context...:\n",
      "   eval-one-top\n",
      "   /usr/share/racket/pkgs/sandbox-lib/racket/sandbox.rkt:510:0: call-with-custodian-shutdown\n",
      "   /usr/share/racket/collects/racket/private/more-scheme.rkt:148:2: call-with-break-parameterization\n",
      "   .../more-scheme.rkt:261:28\n",
      "   /usr/share/racket/pkgs/sandbox-lib/racket/sandbox.rkt:878:5: loop\n"
     ]
    }
   ],
   "source": [
    "(search2 '(43\n",
    "          (27\n",
    "           12\n",
    "           (32 \n",
    "            29 \n",
    "            38))\n",
    "          (70\n",
    "           55\n",
    "           81)) 32)"
   ]
  },
  {
   "cell_type": "markdown",
   "metadata": {},
   "source": [
    "# Aufgabe 2 - preorder -> inorder"
   ]
  },
  {
   "cell_type": "markdown",
   "metadata": {},
   "source": [
    "## how to solve?\n",
    " 1. define a struct, which \n",
    " 2. go to deepest s-Expr\n",
    " 3. recursive output of Expr\n",
    " \n",
    " - map-function?\n",
    " - cannot use pair-functions as it is handled as a list\n"
   ]
  },
  {
   "cell_type": "code",
   "execution_count": 131,
   "metadata": {},
   "outputs": [],
   "source": [
    "(define (make-tree value left right)\n",
    "  (list left value right))\n",
    "\n",
    "(define (operator tree)\n",
    "  (first tree))\n",
    "\n",
    "(define (left-op tree)\n",
    "  (second tree))\n",
    "\n",
    "(define (right-op tree)\n",
    "  (third tree))\n",
    "\n",
    "(define (inorder tree)\n",
    "  (if (empty? (rest tree))\n",
    "      tree\n",
    "      (append (list \n",
    "               (inorder (left-op tree))\n",
    "               (operator tree)\n",
    "               (inorder (right-op tree))))))\n"
   ]
  },
  {
   "cell_type": "code",
   "execution_count": 105,
   "metadata": {},
   "outputs": [
    {
     "data": {
      "text/html": [
       "<code>'(((5) * ((9) - (6))) + ((3) + (4)))</code>"
      ],
      "text/plain": [
       "'(((5) * ((9) - (6))) + ((3) + (4)))"
      ]
     },
     "execution_count": 105,
     "metadata": {},
     "output_type": "execute_result"
    }
   ],
   "source": [
    "(inorder '(+ (* (5) (- (9) (6))) (+ (3) (4))))"
   ]
  },
  {
   "cell_type": "markdown",
   "metadata": {},
   "source": [
    "# Aufgabe 3 - Zipper"
   ]
  },
  {
   "cell_type": "markdown",
   "metadata": {},
   "source": [
    "a_i >= b_i => z_i = a_i - b_i <br>\n",
    "a_i <  b_i => z_i = a_i + b_i"
   ]
  },
  {
   "cell_type": "code",
   "execution_count": 198,
   "metadata": {},
   "outputs": [],
   "source": [
    "(define (zipper lst1 lst2)\n",
    "  (if (empty? lst1)\n",
    "      ('(0)\n",
    "       (write '(aboard!! its empty!)))\n",
    "      ((write '(oh its not empty!))\n",
    "       (if (>= (first lst1) (first lst2))\n",
    "          (- (first lst1) (first lst2))\n",
    "          (+ (first lst1) (first lst2)))\n",
    "       (write '(checkpoint))\n",
    "       (append (zipper (rest lst1) (rest lst2)))))\n",
    ")\n",
    "(trace zipper)"
   ]
  },
  {
   "cell_type": "code",
   "execution_count": 199,
   "metadata": {},
   "outputs": [
    {
     "name": "stdout",
     "output_type": "stream",
     "text": [
      ">(zipper '(1 7 3 2) '(5 2 2 9))\n",
      "(oh its not empty!)(checkpoint)> (zipper '(7 3 2) '(2 2 9))\n",
      "(oh its not empty!)(checkpoint)> >(zipper '(3 2) '(2 9))\n",
      "(oh its not empty!)(checkpoint)> > (zipper '(2) '(9))\n",
      "(oh its not empty!)(checkpoint)> > >(zipper '() '())\n",
      "(aboard!! its empty!)"
     ]
    },
    {
     "name": "stderr",
     "output_type": "stream",
     "text": [
      "application: not a procedure;\n",
      " expected a procedure that can be applied to arguments\n",
      "  given: '(0)\n",
      "  arguments...:\n",
      "   #<void>\n",
      "  context...:\n",
      "   /usr/share/racket/collects/racket/trace.rkt:223:2: do-traced\n",
      "   eval:1:0: zipper\n",
      "   /usr/share/racket/collects/racket/trace.rkt:223:2: do-traced\n",
      "   eval:1:0: zipper\n",
      "   /usr/share/racket/collects/racket/trace.rkt:223:2: do-traced\n",
      "   eval:1:0: zipper\n",
      "   /usr/share/racket/collects/racket/trace.rkt:223:2: do-traced\n",
      "   eval:1:0: zipper\n",
      "   /usr/share/racket/collects/racket/trace.rkt:223:2: do-traced\n",
      "   eval-one-top\n",
      "   /usr/share/racket/pkgs/sandbox-lib/racket/sandbox.rkt:510:0: call-with-custodian-shutdown\n",
      "   /usr/share/racket/collects/racket/private/more-scheme.rkt:148:2: call-with-break-parameterization\n",
      "   .../more-scheme.rkt:261:28\n",
      "   /usr/share/racket/pkgs/sandbox-lib/racket/sandbox.rkt:878:5: loop\n"
     ]
    }
   ],
   "source": [
    "(zipper '(1 7 3 2) '(5 2 2 9))"
   ]
  },
  {
   "cell_type": "code",
   "execution_count": 200,
   "metadata": {},
   "outputs": [
    {
     "data": {
      "text/html": [
       "<code>'(())</code>"
      ],
      "text/plain": [
       "'(())"
      ]
     },
     "execution_count": 200,
     "metadata": {},
     "output_type": "execute_result"
    }
   ],
   "source": [
    "(list (append (append )))"
   ]
  },
  {
   "cell_type": "markdown",
   "metadata": {},
   "source": [
    "## solve by map / foldl?"
   ]
  },
  {
   "cell_type": "code",
   "execution_count": 205,
   "metadata": {},
   "outputs": [],
   "source": [
    "(define (zipper2 lst1 lst2)\n",
    "  (map (lambda (x y)\n",
    "         (if (>= x y)\n",
    "             (- x y)\n",
    "             (+ x y)))\n",
    "       lst1\n",
    "       lst2))"
   ]
  },
  {
   "cell_type": "code",
   "execution_count": 206,
   "metadata": {},
   "outputs": [
    {
     "data": {
      "text/html": [
       "<code>'(6 5 1 11)</code>"
      ],
      "text/plain": [
       "'(6 5 1 11)"
      ]
     },
     "execution_count": 206,
     "metadata": {},
     "output_type": "execute_result"
    }
   ],
   "source": [
    "(zipper2 '(1 7 3 2) '(5 2 2 9))"
   ]
  }
 ],
 "metadata": {
  "kernelspec": {
   "display_name": "Racket",
   "language": "racket",
   "name": "racket"
  },
  "language_info": {
   "codemirror_mode": "scheme",
   "file_extension": ".rkt",
   "mimetype": "text/x-racket",
   "name": "Racket",
   "pygments_lexer": "racket",
   "version": "7.6"
  },
  "toc-autonumbering": false,
  "toc-showcode": true,
  "toc-showmarkdowntxt": true,
  "toc-showtags": false
 },
 "nbformat": 4,
 "nbformat_minor": 4
}
