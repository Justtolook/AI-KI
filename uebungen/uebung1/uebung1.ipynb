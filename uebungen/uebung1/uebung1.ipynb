{
 "cells": [
  {
   "cell_type": "markdown",
   "metadata": {},
   "source": [
    "# Uebungsblatt 1\n",
    "## Racket Basics, Rekursion, Higher-Order Funktionen"
   ]
  },
  {
   "cell_type": "code",
   "execution_count": 51,
   "metadata": {},
   "outputs": [],
   "source": [
    "(require racket)\n",
    "(struct tree (val left right))"
   ]
  },
  {
   "cell_type": "code",
   "execution_count": 10,
   "metadata": {},
   "outputs": [],
   "source": [
    "(define (search tree num)\n",
    "  (foldl (lambda (elem num)\n",
    "           (if (or (equal? elem num) (search (rest tree) num))\n",
    "               #t\n",
    "               #f))\n",
    "         (first tree)\n",
    "         (rest tree)))"
   ]
  },
  {
   "cell_type": "code",
   "execution_count": 49,
   "metadata": {},
   "outputs": [],
   "source": [
    "(require racket)\n",
    "(define (search2 tree num)\n",
    "  (if (empty? (rest tree))\n",
    "      (#f)\n",
    "      ((write (first tree))\n",
    "      (if (or (equal? (first tree) num))\n",
    "      #t\n",
    "      (search (rest tree) num)))))"
   ]
  },
  {
   "cell_type": "code",
   "execution_count": 50,
   "metadata": {},
   "outputs": [
    {
     "name": "stdout",
     "output_type": "stream",
     "text": [
      "4343"
     ]
    },
    {
     "name": "stderr",
     "output_type": "stream",
     "text": [
      "application: not a procedure;\n",
      " expected a procedure that can be applied to arguments\n",
      "  given: #<void>\n",
      "  arguments...:\n",
      "   #f\n",
      "  context...:\n",
      "   eval-one-top\n",
      "   /usr/share/racket/pkgs/sandbox-lib/racket/sandbox.rkt:510:0: call-with-custodian-shutdown\n",
      "   /usr/share/racket/collects/racket/private/more-scheme.rkt:148:2: call-with-break-parameterization\n",
      "   .../more-scheme.rkt:261:28\n",
      "   /usr/share/racket/pkgs/sandbox-lib/racket/sandbox.rkt:878:5: loop\n"
     ]
    }
   ],
   "source": [
    "(search2 '(43\n",
    "          (27\n",
    "           12\n",
    "           (32 \n",
    "            29 \n",
    "            38))\n",
    "          (70\n",
    "           55\n",
    "           81)) 32)"
   ]
  },
  {
   "cell_type": "code",
   "execution_count": null,
   "metadata": {},
   "outputs": [],
   "source": []
  },
  {
   "cell_type": "code",
   "execution_count": null,
   "metadata": {},
   "outputs": [],
   "source": []
  }
 ],
 "metadata": {
  "kernelspec": {
   "display_name": "Racket",
   "language": "racket",
   "name": "racket"
  },
  "language_info": {
   "codemirror_mode": "scheme",
   "file_extension": ".rkt",
   "mimetype": "text/x-racket",
   "name": "Racket",
   "pygments_lexer": "racket",
   "version": "7.6"
  }
 },
 "nbformat": 4,
 "nbformat_minor": 4
}
