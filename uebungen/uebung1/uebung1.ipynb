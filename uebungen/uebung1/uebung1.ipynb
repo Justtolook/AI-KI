{
 "cells": [
  {
   "cell_type": "markdown",
   "metadata": {},
   "source": [
    "# Uebungsblatt 1\n",
    "## Racket Basics, Rekursion, Higher-Order Funktionen"
   ]
  },
  {
   "cell_type": "code",
   "execution_count": 3,
   "metadata": {},
   "outputs": [],
   "source": [
    "(require racket/trace)"
   ]
  },
  {
   "cell_type": "markdown",
   "metadata": {},
   "source": [
    "# Aufgabe 1"
   ]
  },
  {
   "cell_type": "code",
   "execution_count": 10,
   "metadata": {},
   "outputs": [],
   "source": [
    "(require racket)\n",
    "(require racket/trace)\n",
    "(define (search lst num)\n",
    "  (cond \n",
    "   [(empty? lst) #f] \n",
    "   [(number? lst) (equal? num lst)]\n",
    "   [(list? lst) (or (search (first lst) num) (search (rest lst) num))]))"
   ]
  },
  {
   "cell_type": "code",
   "execution_count": 12,
   "metadata": {},
   "outputs": [
    {
     "data": {
      "text/html": [
       "<code>#f</code>"
      ],
      "text/plain": [
       "#f"
      ]
     },
     "execution_count": 12,
     "metadata": {},
     "output_type": "execute_result"
    }
   ],
   "source": [
    "(search '(43\n",
    "          (27\n",
    "           12\n",
    "           (32 \n",
    "            29 \n",
    "            38))\n",
    "          (70\n",
    "           55\n",
    "           81)) 71)"
   ]
  },
  {
   "cell_type": "markdown",
   "metadata": {},
   "source": [
    "# Aufgabe 2 - preorder -> inorder"
   ]
  },
  {
   "cell_type": "code",
   "execution_count": 57,
   "metadata": {},
   "outputs": [],
   "source": [
    "(require racket)\n",
    "\n",
    "(define (operator tree)\n",
    "  (first tree))\n",
    "\n",
    "(define (left-arg tree)\n",
    "  (second tree))\n",
    "\n",
    "(define (right-arg tree)\n",
    "  (third tree))\n",
    "\n",
    "\n",
    "(define (inorder tree)\n",
    "  (cond\n",
    "   [(empty? tree) tree]\n",
    "   [(number? tree) tree]\n",
    "   [(list? tree) (append (flatten (list \n",
    "                           (inorder (left-arg tree))\n",
    "                           (operator tree)\n",
    "                           (inorder (right-arg tree)))))]))"
   ]
  },
  {
   "cell_type": "code",
   "execution_count": 58,
   "metadata": {},
   "outputs": [
    {
     "data": {
      "text/html": [
       "<code>'(5 * 9 - 6 + 3 + 4)</code>"
      ],
      "text/plain": [
       "'(5 * 9 - 6 + 3 + 4)"
      ]
     },
     "execution_count": 58,
     "metadata": {},
     "output_type": "execute_result"
    }
   ],
   "source": [
    "(inorder '(+ (* 5 (- 9 6)) (+ 3 4)))"
   ]
  },
  {
   "cell_type": "markdown",
   "metadata": {},
   "source": [
    "# Aufgabe 3 - Zipper"
   ]
  },
  {
   "cell_type": "markdown",
   "metadata": {},
   "source": [
    "a_i >= b_i => z_i = a_i - b_i <br>\n",
    "a_i <  b_i => z_i = a_i + b_i"
   ]
  },
  {
   "cell_type": "code",
   "execution_count": 198,
   "metadata": {},
   "outputs": [],
   "source": [
    "(define (zipper lst1 lst2)\n",
    "  (if (empty? lst1)\n",
    "      ('(0)\n",
    "       (write '(aboard!! its empty!)))\n",
    "      ((write '(oh its not empty!))\n",
    "       (if (>= (first lst1) (first lst2))\n",
    "          (- (first lst1) (first lst2))\n",
    "          (+ (first lst1) (first lst2)))\n",
    "       (write '(checkpoint))\n",
    "       (append (zipper (rest lst1) (rest lst2)))))\n",
    ")\n",
    "(trace zipper)"
   ]
  },
  {
   "cell_type": "code",
   "execution_count": 199,
   "metadata": {},
   "outputs": [
    {
     "name": "stdout",
     "output_type": "stream",
     "text": [
      ">(zipper '(1 7 3 2) '(5 2 2 9))\n",
      "(oh its not empty!)(checkpoint)> (zipper '(7 3 2) '(2 2 9))\n",
      "(oh its not empty!)(checkpoint)> >(zipper '(3 2) '(2 9))\n",
      "(oh its not empty!)(checkpoint)> > (zipper '(2) '(9))\n",
      "(oh its not empty!)(checkpoint)> > >(zipper '() '())\n",
      "(aboard!! its empty!)"
     ]
    },
    {
     "name": "stderr",
     "output_type": "stream",
     "text": [
      "application: not a procedure;\n",
      " expected a procedure that can be applied to arguments\n",
      "  given: '(0)\n",
      "  arguments...:\n",
      "   #<void>\n",
      "  context...:\n",
      "   /usr/share/racket/collects/racket/trace.rkt:223:2: do-traced\n",
      "   eval:1:0: zipper\n",
      "   /usr/share/racket/collects/racket/trace.rkt:223:2: do-traced\n",
      "   eval:1:0: zipper\n",
      "   /usr/share/racket/collects/racket/trace.rkt:223:2: do-traced\n",
      "   eval:1:0: zipper\n",
      "   /usr/share/racket/collects/racket/trace.rkt:223:2: do-traced\n",
      "   eval:1:0: zipper\n",
      "   /usr/share/racket/collects/racket/trace.rkt:223:2: do-traced\n",
      "   eval-one-top\n",
      "   /usr/share/racket/pkgs/sandbox-lib/racket/sandbox.rkt:510:0: call-with-custodian-shutdown\n",
      "   /usr/share/racket/collects/racket/private/more-scheme.rkt:148:2: call-with-break-parameterization\n",
      "   .../more-scheme.rkt:261:28\n",
      "   /usr/share/racket/pkgs/sandbox-lib/racket/sandbox.rkt:878:5: loop\n"
     ]
    }
   ],
   "source": [
    "(zipper '(1 7 3 2) '(5 2 2 9))"
   ]
  },
  {
   "cell_type": "code",
   "execution_count": 200,
   "metadata": {},
   "outputs": [
    {
     "data": {
      "text/html": [
       "<code>'(())</code>"
      ],
      "text/plain": [
       "'(())"
      ]
     },
     "execution_count": 200,
     "metadata": {},
     "output_type": "execute_result"
    }
   ],
   "source": [
    "(list (append (append )))"
   ]
  },
  {
   "cell_type": "markdown",
   "metadata": {},
   "source": [
    "## solve by map / foldl?"
   ]
  },
  {
   "cell_type": "code",
   "execution_count": 205,
   "metadata": {},
   "outputs": [],
   "source": [
    "(define (zipper2 lst1 lst2)\n",
    "  (map (lambda (x y)\n",
    "         (if (>= x y)\n",
    "             (- x y)\n",
    "             (+ x y)))\n",
    "       lst1\n",
    "       lst2))"
   ]
  },
  {
   "cell_type": "code",
   "execution_count": 206,
   "metadata": {},
   "outputs": [
    {
     "data": {
      "text/html": [
       "<code>'(6 5 1 11)</code>"
      ],
      "text/plain": [
       "'(6 5 1 11)"
      ]
     },
     "execution_count": 206,
     "metadata": {},
     "output_type": "execute_result"
    }
   ],
   "source": [
    "(zipper2 '(1 7 3 2) '(5 2 2 9))"
   ]
  }
 ],
 "metadata": {
  "kernelspec": {
   "display_name": "Racket",
   "language": "racket",
   "name": "racket"
  },
  "language_info": {
   "codemirror_mode": "scheme",
   "file_extension": ".rkt",
   "mimetype": "text/x-racket",
   "name": "Racket",
   "pygments_lexer": "racket",
   "version": "7.2"
  },
  "toc-autonumbering": false,
  "toc-showcode": true,
  "toc-showmarkdowntxt": true,
  "toc-showtags": false
 },
 "nbformat": 4,
 "nbformat_minor": 4
}
