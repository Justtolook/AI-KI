{
 "cells": [
  {
   "cell_type": "markdown",
   "metadata": {},
   "source": [
    "# Uebungsblatt 1\n",
    "## Racket Basics, Rekursion, Higher-Order Funktionen"
   ]
  },
  {
   "cell_type": "code",
   "execution_count": 3,
   "metadata": {},
   "outputs": [],
   "source": [
    "(require racket/trace)"
   ]
  },
  {
   "cell_type": "markdown",
   "metadata": {},
   "source": [
    "# Aufgabe 1\n",
    "\n",
    "Definieren Sie eine rekursive Funktion search, welche einen Binärbaum nach einem gegebenen Element durchsucht. Wenn das Element im Baum\n",
    "enthalten ist, soll das Element zur¨uckgegeben werden. Wenn nicht, so soll #f zurückgegeben werden. Als Argumente sollen ein beliebiger Binärbaum tree nach unten definiertem Schema und ein zu suchendes Element elem angegeben werden können.\n",
    "\n",
    "Bedingung: Benutzen Sie die or Funktion in Ihrer Funktion.\n",
    "\n",
    "Beispiele für den unten angegebenen Baum:\n",
    "• (search tree 42) ---> #f\n",
    "• (search tree 29) ---> 29"
   ]
  },
  {
   "cell_type": "code",
   "execution_count": 10,
   "metadata": {},
   "outputs": [],
   "source": [
    "(require racket)\n",
    "(require racket/trace)\n",
    "(define (search lst num)\n",
    "  (cond \n",
    "   [(empty? lst) #f] \n",
    "   [(number? lst) (equal? num lst)]\n",
    "   [(list? lst) (or (search (first lst) num) (search (rest lst) num))]))"
   ]
  },
  {
   "cell_type": "code",
   "execution_count": 12,
   "metadata": {},
   "outputs": [
    {
     "data": {
      "text/html": [
       "<code>#f</code>"
      ],
      "text/plain": [
       "#f"
      ]
     },
     "execution_count": 12,
     "metadata": {},
     "output_type": "execute_result"
    }
   ],
   "source": [
    "(search '(43\n",
    "          (27\n",
    "           12\n",
    "           (32 \n",
    "            29 \n",
    "            38))\n",
    "          (70\n",
    "           55\n",
    "           81)) 71)"
   ]
  },
  {
   "cell_type": "markdown",
   "metadata": {},
   "source": [
    "# Aufgabe 2 - preorder -> inorder\n",
    "\n",
    "Definieren Sie eine rekursive Funktion inorder, die arithmetische Ausdr¨ucke\n",
    "in ’Racket-Schreibweise’ (s-Expressions) mit der inorder-Methode traversiert und das Ergebnis als Liste ausgibt. Die korrekte Klammerung soll\n",
    "bei der Ausgabe ignoriert werden.\n",
    "\n",
    "Beispiel:\n",
    "• (inorder ’(+ (* 5 (- 9 6)) (+ 3 4))) ---> ’(5 * 9 - 6 + 3 + 4)\n"
   ]
  },
  {
   "cell_type": "code",
   "execution_count": 57,
   "metadata": {},
   "outputs": [],
   "source": [
    "(require racket)\n",
    "\n",
    "(define (operator tree)\n",
    "  (first tree))\n",
    "\n",
    "(define (left-arg tree)\n",
    "  (second tree))\n",
    "\n",
    "(define (right-arg tree)\n",
    "  (third tree))\n",
    "\n",
    "\n",
    "(define (inorder tree)\n",
    "  (cond\n",
    "   [(empty? tree) tree]\n",
    "   [(number? tree) tree]\n",
    "   [(list? tree) (append (flatten (list \n",
    "                           (inorder (left-arg tree))\n",
    "                           (operator tree)\n",
    "                           (inorder (right-arg tree)))))]))"
   ]
  },
  {
   "cell_type": "code",
   "execution_count": 58,
   "metadata": {},
   "outputs": [
    {
     "data": {
      "text/html": [
       "<code>'(5 * 9 - 6 + 3 + 4)</code>"
      ],
      "text/plain": [
       "'(5 * 9 - 6 + 3 + 4)"
      ]
     },
     "execution_count": 58,
     "metadata": {},
     "output_type": "execute_result"
    }
   ],
   "source": [
    "(inorder '(+ (* 5 (- 9 6)) (+ 3 4)))"
   ]
  },
  {
   "cell_type": "markdown",
   "metadata": {},
   "source": [
    "# Aufgabe 3 - Zipper"
   ]
  },
  {
   "cell_type": "markdown",
   "metadata": {},
   "source": [
    "Definieren Sie eine Funktion zipper, die zwei gleich lange Listen als Argumente erwartet. Das Ergebnis soll eine ebenso lange Liste sein, welche\n",
    "folgende Bedingungen f¨ur die Elemente erf¨ullen soll: Wenn die Zahl an\n",
    "einer Position in der ersten Liste kleiner ist als die Zahl an derselben Position in der zweiten Liste, soll an dieser Position in der Ergebnisliste die\n",
    "Summe der beiden Zahlen stehen. Ansonsten soll die Differenz der beiden\n",
    "Zahlen an dieser Position stehen.\n",
    "Beispiel:\n",
    "(zipper ’(1 7 3 2) ’(5 2 2 9)) ---> ’(6 5 1 11)"
   ]
  },
  {
   "cell_type": "markdown",
   "metadata": {},
   "source": [
    "a_i >= b_i => z_i = a_i - b_i <br>\n",
    "a_i <  b_i => z_i = a_i + b_i"
   ]
  },
  {
   "cell_type": "code",
   "execution_count": 66,
   "metadata": {},
   "outputs": [],
   "source": [
    "(define (zipper2 lst1 lst2)\n",
    "  (map (lambda (x y)\n",
    "         (if (>= x y)\n",
    "             (- x y)\n",
    "             (+ x y)))\n",
    "       lst1\n",
    "       lst2))"
   ]
  },
  {
   "cell_type": "code",
   "execution_count": 67,
   "metadata": {},
   "outputs": [
    {
     "data": {
      "text/html": [
       "<code>'(6 5 1 11)</code>"
      ],
      "text/plain": [
       "'(6 5 1 11)"
      ]
     },
     "execution_count": 67,
     "metadata": {},
     "output_type": "execute_result"
    }
   ],
   "source": [
    "(zipper2 '(1 7 3 2) '(5 2 2 9))"
   ]
  }
 ],
 "metadata": {
  "kernelspec": {
   "display_name": "Racket",
   "language": "racket",
   "name": "racket"
  },
  "language_info": {
   "codemirror_mode": "scheme",
   "file_extension": ".rkt",
   "mimetype": "text/x-racket",
   "name": "Racket",
   "pygments_lexer": "racket",
   "version": "7.2"
  },
  "toc-autonumbering": false,
  "toc-showcode": true,
  "toc-showmarkdowntxt": true,
  "toc-showtags": false
 },
 "nbformat": 4,
 "nbformat_minor": 4
}
