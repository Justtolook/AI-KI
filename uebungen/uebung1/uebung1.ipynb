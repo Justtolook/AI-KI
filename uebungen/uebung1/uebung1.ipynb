{
 "cells": [
  {
   "cell_type": "markdown",
   "metadata": {},
   "source": [
    "# Uebungsblatt 1\n",
    "## Racket Basics, Rekursion, Higher-Order Funktionen"
   ]
  },
  {
   "cell_type": "code",
   "execution_count": 3,
   "metadata": {},
   "outputs": [],
   "source": [
    "(require racket)"
   ]
  },
  {
   "cell_type": "markdown",
   "metadata": {},
   "source": [
    "# Aufgabe 1"
   ]
  },
  {
   "cell_type": "code",
   "execution_count": 2,
   "metadata": {},
   "outputs": [],
   "source": [
    "(define (search tree num)\n",
    "  (foldl (lambda (elem num)\n",
    "           (if (or (equal? elem num) (search (rest tree) num))\n",
    "               #t\n",
    "               #f))\n",
    "         (first tree)\n",
    "         (rest tree)))"
   ]
  },
  {
   "cell_type": "code",
   "execution_count": 3,
   "metadata": {},
   "outputs": [],
   "source": [
    "(require racket)\n",
    "(define (search2 tree num)\n",
    "  (if (empty? (rest tree))\n",
    "      (#f)\n",
    "      ((write (first tree))\n",
    "      (if (or (equal? (first tree) num))\n",
    "      #t\n",
    "      (search (rest tree) num)))))"
   ]
  },
  {
   "cell_type": "code",
   "execution_count": 4,
   "metadata": {},
   "outputs": [
    {
     "name": "stdout",
     "output_type": "stream",
     "text": [
      "43"
     ]
    },
    {
     "name": "stderr",
     "output_type": "stream",
     "text": [
      "application: not a procedure;\n",
      " expected a procedure that can be applied to arguments\n",
      "  given: #<void>\n",
      "  arguments...:\n",
      "   #t\n",
      "  context...:\n",
      "   eval-one-top\n",
      "   /usr/share/racket/pkgs/sandbox-lib/racket/sandbox.rkt:510:0: call-with-custodian-shutdown\n",
      "   /usr/share/racket/collects/racket/private/more-scheme.rkt:148:2: call-with-break-parameterization\n",
      "   .../more-scheme.rkt:261:28\n",
      "   /usr/share/racket/pkgs/sandbox-lib/racket/sandbox.rkt:878:5: loop\n"
     ]
    }
   ],
   "source": [
    "(search2 '(43\n",
    "          (27\n",
    "           12\n",
    "           (32 \n",
    "            29 \n",
    "            38))\n",
    "          (70\n",
    "           55\n",
    "           81)) 32)"
   ]
  },
  {
   "cell_type": "markdown",
   "metadata": {},
   "source": [
    "# Aufgabe 2"
   ]
  },
  {
   "cell_type": "markdown",
   "metadata": {},
   "source": [
    "## how to solve?\n",
    " 1. define a struct, which \n",
    " 2. go to deepest s-Expr\n",
    " 3. recursive output of Expr\n",
    " \n",
    " - map-function?\n",
    " - cannot use pair-functions as it is handled as a list\n"
   ]
  },
  {
   "cell_type": "code",
   "execution_count": null,
   "metadata": {},
   "outputs": [],
   "source": []
  },
  {
   "cell_type": "code",
   "execution_count": null,
   "metadata": {},
   "outputs": [],
   "source": [
    "(struct sExpr (f x y))\n",
    "(define (inorder lst)\n",
    "  (if (empty? (rest x))\n",
    "      (if (empty? (rest y))\n",
    "          '(,x ,f ,y)\n",
    "          (inorder )))\n",
    "  )"
   ]
  },
  {
   "cell_type": "code",
   "execution_count": 85,
   "metadata": {},
   "outputs": [],
   "source": [
    "(define (make-tree value left right)\n",
    "  (list left value right))\n",
    "\n",
    "(define (operator tree)\n",
    "  (write 'op:)\n",
    "  (write (first tree))\n",
    "  (first tree))\n",
    "\n",
    "(define (left-op tree)\n",
    "  (write 'left-op:)\n",
    "  (write (second tree))\n",
    "  (second tree))\n",
    "\n",
    "(define (right-op tree)\n",
    "  (write 'right-op:)\n",
    "  (write (third tree))\n",
    "  (third tree))\n",
    "\n",
    "(define (inorder tree)\n",
    "  (if (empty? (rest tree))\n",
    "      '()\n",
    "      (append (list (inorder (left-op tree))\n",
    "              (operator tree)\n",
    "              (inorder (right-op tree))))))\n"
   ]
  },
  {
   "cell_type": "code",
   "execution_count": 88,
   "metadata": {},
   "outputs": [
    {
     "name": "stdout",
     "output_type": "stream",
     "text": [
      "left-op:(* (5) (- (9) (6)))left-op:(5)op:*right-op:(- (9) (6))left-op:(9)op:-right-op:(6)op:+right-op:(+ (3) (4))left-op:(3)op:+right-op:(4)"
     ]
    },
    {
     "data": {
      "text/html": [
       "<code>'((() * (() - ())) + (() + ()))</code>"
      ],
      "text/plain": [
       "'((() * (() - ())) + (() + ()))"
      ]
     },
     "execution_count": 88,
     "metadata": {},
     "output_type": "execute_result"
    }
   ],
   "source": [
    "(inorder '(+ (* (5) (- (9) (6))) (+ (3) (4))))"
   ]
  },
  {
   "cell_type": "code",
   "execution_count": 28,
   "metadata": {},
   "outputs": [
    {
     "data": {
      "text/html": [
       "<code>'(* 5 (- 9 6))</code>"
      ],
      "text/plain": [
       "'(* 5 (- 9 6))"
      ]
     },
     "execution_count": 28,
     "metadata": {},
     "output_type": "execute_result"
    }
   ],
   "source": [
    "(first(rest '(+ (* 5 (- 9 6)) (+ 3 4))))"
   ]
  },
  {
   "cell_type": "code",
   "execution_count": 70,
   "metadata": {},
   "outputs": [
    {
     "data": {
      "text/html": [
       "<code>#t</code>"
      ],
      "text/plain": [
       "#t"
      ]
     },
     "execution_count": 70,
     "metadata": {},
     "output_type": "execute_result"
    }
   ],
   "source": [
    "(let ([a '(+ (* 5 (- 9 6)) (+ 3 4))]) \n",
    "  (empty? (rest '(,a))))"
   ]
  }
 ],
 "metadata": {
  "kernelspec": {
   "display_name": "Racket",
   "language": "racket",
   "name": "racket"
  },
  "language_info": {
   "codemirror_mode": "scheme",
   "file_extension": ".rkt",
   "mimetype": "text/x-racket",
   "name": "Racket",
   "pygments_lexer": "racket",
   "version": "7.6"
  }
 },
 "nbformat": 4,
 "nbformat_minor": 4
}
