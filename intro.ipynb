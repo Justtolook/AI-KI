{
 "cells": [
  {
   "cell_type": "markdown",
   "metadata": {},
   "source": [
    "# BMI calculator"
   ]
  },
  {
   "cell_type": "code",
   "execution_count": null,
   "metadata": {},
   "outputs": [],
   "source": [
    ";bmi = kg / (m * m)\n",
    "\n",
    "(define (bmi kg m)\n",
    "  (/ kg( * m m)))\n",
    "\n",
    "(define (bmi-category kg m)\n",
    "  (let ([bmi (bmi kg m)])\n",
    "  (cond\n",
    "    [(and (>= bmi 18.5) (< bmi 25)) 'normal]\n",
    "    [(< bmi 18.5) 'untergewichtig]\n",
    "    [else 'uebergewichtig])))"
   ]
  },
  {
   "cell_type": "markdown",
   "metadata": {},
   "source": [
    "# Length of List"
   ]
  },
  {
   "cell_type": "code",
   "execution_count": 2,
   "metadata": {},
   "outputs": [],
   "source": [
    "\n",
    "(define (length1 lst)\n",
    "  (if (empty? lst)\n",
    "      0\n",
    "      (+ 1 (length1 (list-tail lst 1))))\n",
    "  )"
   ]
  },
  {
   "cell_type": "code",
   "execution_count": 1,
   "metadata": {},
   "outputs": [
    {
     "data": {
      "text/html": [
       "<code>4</code>"
      ],
      "text/plain": [
       "4"
      ]
     },
     "execution_count": 1,
     "metadata": {},
     "output_type": "execute_result"
    }
   ],
   "source": [
    "(length '(1 3 5 2))"
   ]
  },
  {
   "cell_type": "markdown",
   "metadata": {},
   "source": [
    "# Lambda Function"
   ]
  },
  {
   "cell_type": "code",
   "execution_count": 6,
   "metadata": {},
   "outputs": [],
   "source": [
    "(define func (lambda (x) (+ x 1)))\n",
    "\n",
    "(require racket)\n",
    ";(most '(5 3 8 6) (lambda (x) (* x x))) ---> 8\n",
    "\n",
    "(define (most lst key-fn)\n",
    "  (if (empty? (rest lst))\n",
    "    (first lst)\n",
    "    (if(> (key-fn (first lst)) (key-fn (most (rest lst) key-fn)))\n",
    "       (first lst)\n",
    "       (most (rest lst) key-fn))))"
   ]
  },
  {
   "cell_type": "code",
   "execution_count": 9,
   "metadata": {},
   "outputs": [
    {
     "data": {
      "text/html": [
       "<code>-10</code>"
      ],
      "text/plain": [
       "-10"
      ]
     },
     "execution_count": 9,
     "metadata": {},
     "output_type": "execute_result"
    }
   ],
   "source": [
    "(most '(5 3 8 -10 6) (lambda (x) (* x x)))"
   ]
  },
  {
   "cell_type": "markdown",
   "metadata": {},
   "source": [
    "# Fold"
   ]
  },
  {
   "cell_type": "code",
   "execution_count": 12,
   "metadata": {},
   "outputs": [],
   "source": [
    "(require racket)\n",
    "(define (most2 lst key-fn)\n",
    "  (foldl (lambda (elem most-so-far)\n",
    "           (if (> (key-fn elem) (key-fn most-so-far))\n",
    "               elem \n",
    "               most-so-far))\n",
    "         (first lst)\n",
    "         (rest lst)))"
   ]
  },
  {
   "cell_type": "code",
   "execution_count": 13,
   "metadata": {},
   "outputs": [
    {
     "data": {
      "text/html": [
       "<code>7</code>"
      ],
      "text/plain": [
       "7"
      ]
     },
     "execution_count": 13,
     "metadata": {},
     "output_type": "execute_result"
    }
   ],
   "source": [
    "(most2 '(4 2 7) (lambda (x) (* x x)))"
   ]
  },
  {
   "cell_type": "code",
   "execution_count": null,
   "metadata": {},
   "outputs": [],
   "source": []
  }
 ],
 "metadata": {
  "kernelspec": {
   "display_name": "Racket",
   "language": "racket",
   "name": "racket"
  },
  "language_info": {
   "codemirror_mode": "scheme",
   "file_extension": ".rkt",
   "mimetype": "text/x-racket",
   "name": "Racket",
   "pygments_lexer": "racket",
   "version": "7.6"
  }
 },
 "nbformat": 4,
 "nbformat_minor": 4
}
